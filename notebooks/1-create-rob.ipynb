{
 "cells": [
  {
   "cell_type": "markdown",
   "metadata": {},
   "source": [
    "# Creating Risk of Bias Inference Dataset\n",
    "-------\n"
   ]
  },
  {
   "cell_type": "markdown",
   "metadata": {},
   "source": [
    "## Importing libraries"
   ]
  },
  {
   "cell_type": "code",
   "execution_count": 27,
   "metadata": {},
   "outputs": [],
   "source": [
    "import os\n",
    "import ast\n",
    "import pandas as pd\n",
    "import numpy as np\n",
    "import json\n",
    "import string\n",
    "from nltk.tokenize import word_tokenize\n",
    "from sklearn.model_selection import train_test_split\n",
    "from skmultilearn.model_selection import IterativeStratification\n",
    "import matplotlib.pyplot as plt"
   ]
  },
  {
   "cell_type": "code",
   "execution_count": 52,
   "metadata": {},
   "outputs": [],
   "source": [
    "from transformers import RobertaTokenizer, RobertaModel"
   ]
  },
  {
   "cell_type": "markdown",
   "metadata": {},
   "source": [
    "## Constants"
   ]
  },
  {
   "cell_type": "code",
   "execution_count": 2,
   "metadata": {},
   "outputs": [],
   "source": [
    "DATASET_PATH = os.path.join('D:\\\\', 'biomedical-datasets', 'cdsr_dataset')\n",
    "CDSR_ROB_PATH = os.path.join(DATASET_PATH, 'rm5_risk_of_bias.csv')\n",
    "CDSR_REF_PATH = os.path.join(DATASET_PATH, 'rm5-references.csv')"
   ]
  },
  {
   "cell_type": "code",
   "execution_count": 3,
   "metadata": {},
   "outputs": [],
   "source": [
    "assert os.path.isfile(CDSR_ROB_PATH), \"Arquivo rm5_risk_of_bias.csv não encontrado\"\n",
    "assert os.path.isfile(CDSR_REF_PATH), \"Arquivo rm5-references.csv não encontrado\""
   ]
  },
  {
   "cell_type": "code",
   "execution_count": 4,
   "metadata": {},
   "outputs": [],
   "source": [
    "cdsr_rob_df = pd.read_csv(CDSR_ROB_PATH)\n",
    "cdsr_ref_df = pd.read_csv(CDSR_REF_PATH)"
   ]
  },
  {
   "cell_type": "markdown",
   "metadata": {},
   "source": [
    "## Statistics by judgment of bias"
   ]
  },
  {
   "cell_type": "code",
   "execution_count": 30,
   "metadata": {},
   "outputs": [
    {
     "data": {
      "text/plain": [
       "32"
      ]
     },
     "execution_count": 30,
     "metadata": {},
     "output_type": "execute_result"
    }
   ],
   "source": [
    "len(cdsr_rob_df.id.unique())"
   ]
  },
  {
   "cell_type": "code",
   "execution_count": 25,
   "metadata": {},
   "outputs": [
    {
     "data": {
      "image/png": "[encoded data removed]",
      "text/plain": [
       "<Figure size 640x480 with 1 Axes>"
      ]
     },
     "metadata": {},
     "output_type": "display_data"
    }
   ],
   "source": [
    "# plot barh for rob_judgment group by rob_judgment show values in the bar\n",
    "rob_judgment = cdsr_rob_df['rob_judgment'].value_counts()\n",
    "rob_judgment.plot.barh()\n",
    "for index, value in enumerate(rob_judgment):\n",
    "    plt.text(value, index, str(value))\n",
    "plt.show()"
   ]
  },
  {
   "cell_type": "code",
   "execution_count": 28,
   "metadata": {},
   "outputs": [],
   "source": [
    "def iterative_split(df, test_size, stratify_columns):\n",
    "    \"\"\"Custom iterative train test split which\n",
    "    'maintains balanced representation with respect\n",
    "    to order-th label combinations.'\n",
    "\n",
    "    From https://madewithml.com/courses/mlops/splitting/#stratified-split\n",
    "    \"\"\"\n",
    "    # One-hot encode the stratify columns and concatenate them\n",
    "    one_hot_cols = [pd.get_dummies(df[col]) for col in stratify_columns]\n",
    "    one_hot_cols = pd.concat(one_hot_cols, axis=1).to_numpy()\n",
    "    stratifier = IterativeStratification(\n",
    "        n_splits=2, order=len(stratify_columns), sample_distribution_per_fold=[test_size, 1-test_size])\n",
    "    train_indices, test_indices = next(stratifier.split(df.to_numpy(), one_hot_cols))\n",
    "    # Return the train and test set dataframes\n",
    "    train, test = df.iloc[train_indices], df.iloc[test_indices]\n",
    "    return train, test"
   ]
  },
  {
   "cell_type": "code",
   "execution_count": 33,
   "metadata": {},
   "outputs": [],
   "source": [
    "train, val_test = iterative_split(cdsr_rob_df, 0.4, ['rob_judgment', 'id'])\n",
    "val, test = iterative_split(val_test, 0.5, ['rob_judgment', 'id'])"
   ]
  },
  {
   "cell_type": "code",
   "execution_count": 34,
   "metadata": {},
   "outputs": [],
   "source": [
    "train.to_csv(os.path.join(DATASET_PATH, 'rob_train.csv'), index=False)\n",
    "val.to_csv(os.path.join(DATASET_PATH, 'rob_val.csv'), index=False)\n",
    "test.to_csv(os.path.join(DATASET_PATH, 'rob_test.csv'), index=False)"
   ]
  },
  {
   "cell_type": "code",
   "execution_count": 35,
   "metadata": {},
   "outputs": [
    {
     "data": {
      "text/plain": [
       "((507646, 14), (169213, 14), (169215, 14))"
      ]
     },
     "execution_count": 35,
     "metadata": {},
     "output_type": "execute_result"
    }
   ],
   "source": [
    "train.shape, val.shape, test.shape"
   ]
  },
  {
   "cell_type": "code",
   "execution_count": 38,
   "metadata": {},
   "outputs": [
    {
     "data": {
      "text/plain": [
       "(rob_judgment\n",
       " LOW        220984\n",
       " UNCLEAR    207565\n",
       " HIGH        79097\n",
       " Name: count, dtype: int64,\n",
       " rob_judgment\n",
       " LOW        73661\n",
       " UNCLEAR    69187\n",
       " HIGH       26365\n",
       " Name: count, dtype: int64,\n",
       " rob_judgment\n",
       " LOW        73662\n",
       " UNCLEAR    69187\n",
       " HIGH       26366\n",
       " Name: count, dtype: int64)"
      ]
     },
     "execution_count": 38,
     "metadata": {},
     "output_type": "execute_result"
    }
   ],
   "source": [
    "train.rob_judgment.value_counts(), val.rob_judgment.value_counts(), test.rob_judgment.value_counts()"
   ]
  },
  {
   "cell_type": "code",
   "execution_count": 47,
   "metadata": {},
   "outputs": [
    {
     "data": {
      "text/html": [
       "<div>\n",
       "<style scoped>\n",
       "    .dataframe tbody tr th:only-of-type {\n",
       "        vertical-align: middle;\n",
       "    }\n",
       "\n",
       "    .dataframe tbody tr th {\n",
       "        vertical-align: top;\n",
       "    }\n",
       "\n",
       "    .dataframe thead th {\n",
       "        text-align: right;\n",
       "    }\n",
       "</style>\n",
       "<table border=\"1\" class=\"dataframe\">\n",
       "  <thead>\n",
       "    <tr style=\"text-align: right;\">\n",
       "      <th></th>\n",
       "      <th>review</th>\n",
       "      <th>id</th>\n",
       "      <th>name</th>\n",
       "      <th>description</th>\n",
       "      <th>core_item</th>\n",
       "      <th>level</th>\n",
       "      <th>no</th>\n",
       "      <th>study_id</th>\n",
       "      <th>study_name</th>\n",
       "      <th>group_id</th>\n",
       "      <th>group_description</th>\n",
       "      <th>rob_judgment</th>\n",
       "      <th>support_judgment</th>\n",
       "      <th>support_judgment_str</th>\n",
       "    </tr>\n",
       "  </thead>\n",
       "  <tbody>\n",
       "    <tr>\n",
       "      <th>39268</th>\n",
       "      <td>D:\\biomedical-datasets\\cdsr_dataset\\rm5\\CD0010...</td>\n",
       "      <td>QIT-05</td>\n",
       "      <td>Selective reporting (reporting bias)</td>\n",
       "      <td>Reporting bias due to selective outcome reporting</td>\n",
       "      <td>True</td>\n",
       "      <td>STUDY</td>\n",
       "      <td>5</td>\n",
       "      <td>STD-Dhainaut-1995</td>\n",
       "      <td>Dhainaut 1995</td>\n",
       "      <td>NaN</td>\n",
       "      <td>NaN</td>\n",
       "      <td>LOW</td>\n",
       "      <td>[]</td>\n",
       "      <td>NaN</td>\n",
       "    </tr>\n",
       "    <tr>\n",
       "      <th>227338</th>\n",
       "      <td>D:\\biomedical-datasets\\cdsr_dataset\\rm5\\CD0043...</td>\n",
       "      <td>QIT-02</td>\n",
       "      <td>Allocation concealment (selection bias)</td>\n",
       "      <td>Selection bias (biased allocation to intervent...</td>\n",
       "      <td>True</td>\n",
       "      <td>STUDY</td>\n",
       "      <td>2</td>\n",
       "      <td>STD-Mohammadi-2015</td>\n",
       "      <td>Mohammadi 2015</td>\n",
       "      <td>NaN</td>\n",
       "      <td>NaN</td>\n",
       "      <td>UNCLEAR</td>\n",
       "      <td>No information was provided to assess this risk.</td>\n",
       "      <td>No information was provided to assess this risk.</td>\n",
       "    </tr>\n",
       "    <tr>\n",
       "      <th>320220</th>\n",
       "      <td>D:\\biomedical-datasets\\cdsr_dataset\\rm5\\CD0061...</td>\n",
       "      <td>QIT-04</td>\n",
       "      <td>Incomplete outcome data (attrition bias)</td>\n",
       "      <td>Attrition bias due to amount, nature or handli...</td>\n",
       "      <td>True</td>\n",
       "      <td>GROUP</td>\n",
       "      <td>4</td>\n",
       "      <td>STD-Frishman-2004</td>\n",
       "      <td>Frishman 2004</td>\n",
       "      <td>QIG-04.01</td>\n",
       "      <td>All outcomes</td>\n",
       "      <td>LOW</td>\n",
       "      <td>['Quote: \"No patients were excluded from the s...</td>\n",
       "      <td>Quote: \"No patients were excluded from the stu...</td>\n",
       "    </tr>\n",
       "    <tr>\n",
       "      <th>239390</th>\n",
       "      <td>D:\\biomedical-datasets\\cdsr_dataset\\rm5\\CD0045...</td>\n",
       "      <td>QIT-06</td>\n",
       "      <td>Other bias</td>\n",
       "      <td>Bias due to problems not covered elsewhere in ...</td>\n",
       "      <td>True</td>\n",
       "      <td>STUDY</td>\n",
       "      <td>6</td>\n",
       "      <td>STD-Reid-2006</td>\n",
       "      <td>Reid 2006</td>\n",
       "      <td>NaN</td>\n",
       "      <td>NaN</td>\n",
       "      <td>UNCLEAR</td>\n",
       "      <td>['\"The extension (Protocol 907â\\x80\\x9310) was...</td>\n",
       "      <td>\"The extension (Protocol 907â10) was a doubl...</td>\n",
       "    </tr>\n",
       "    <tr>\n",
       "      <th>520028</th>\n",
       "      <td>D:\\biomedical-datasets\\cdsr_dataset\\rm5\\CD0095...</td>\n",
       "      <td>QIT-05</td>\n",
       "      <td>Incomplete outcome data (attrition bias)</td>\n",
       "      <td>Attrition bias due to amount, nature or handli...</td>\n",
       "      <td>True</td>\n",
       "      <td>GROUP</td>\n",
       "      <td>5</td>\n",
       "      <td>STD-Leslie-2017</td>\n",
       "      <td>Leslie 2017</td>\n",
       "      <td>QIG-05.02</td>\n",
       "      <td>Antimalarial prescribing to microscopy- or PCR...</td>\n",
       "      <td>LOW</td>\n",
       "      <td>86% CHWs received training, consented and enro...</td>\n",
       "      <td>86% CHWs received training, consented and enro...</td>\n",
       "    </tr>\n",
       "    <tr>\n",
       "      <th>...</th>\n",
       "      <td>...</td>\n",
       "      <td>...</td>\n",
       "      <td>...</td>\n",
       "      <td>...</td>\n",
       "      <td>...</td>\n",
       "      <td>...</td>\n",
       "      <td>...</td>\n",
       "      <td>...</td>\n",
       "      <td>...</td>\n",
       "      <td>...</td>\n",
       "      <td>...</td>\n",
       "      <td>...</td>\n",
       "      <td>...</td>\n",
       "      <td>...</td>\n",
       "    </tr>\n",
       "    <tr>\n",
       "      <th>448506</th>\n",
       "      <td>D:\\biomedical-datasets\\cdsr_dataset\\rm5\\CD0082...</td>\n",
       "      <td>QIT-01</td>\n",
       "      <td>Random sequence generation (selection bias)</td>\n",
       "      <td>Selection bias (biased allocation to intervent...</td>\n",
       "      <td>True</td>\n",
       "      <td>STUDY</td>\n",
       "      <td>1</td>\n",
       "      <td>STD-Latimer-2006</td>\n",
       "      <td>Latimer 2006</td>\n",
       "      <td>NaN</td>\n",
       "      <td>NaN</td>\n",
       "      <td>LOW</td>\n",
       "      <td>Randomised: stratified by work history and cli...</td>\n",
       "      <td>Randomised: stratified by work history and cli...</td>\n",
       "    </tr>\n",
       "    <tr>\n",
       "      <th>448554</th>\n",
       "      <td>D:\\biomedical-datasets\\cdsr_dataset\\rm5\\CD0082...</td>\n",
       "      <td>QIT-04</td>\n",
       "      <td>Incomplete outcome data (attrition bias)</td>\n",
       "      <td>Attrition bias due to amount, nature or handli...</td>\n",
       "      <td>True</td>\n",
       "      <td>GROUP</td>\n",
       "      <td>4</td>\n",
       "      <td>STD-Wong-2008</td>\n",
       "      <td>Wong 2008</td>\n",
       "      <td>QIG-04.01</td>\n",
       "      <td>All outcomes</td>\n",
       "      <td>LOW</td>\n",
       "      <td>Number and reason for attrition reported. One ...</td>\n",
       "      <td>Number and reason for attrition reported. One ...</td>\n",
       "    </tr>\n",
       "    <tr>\n",
       "      <th>834905</th>\n",
       "      <td>D:\\biomedical-datasets\\cdsr_dataset\\rm5\\CD0148...</td>\n",
       "      <td>QIT-04</td>\n",
       "      <td>Incomplete outcome data (attrition bias)</td>\n",
       "      <td>Attrition bias due to amount, nature or handli...</td>\n",
       "      <td>True</td>\n",
       "      <td>GROUP</td>\n",
       "      <td>4</td>\n",
       "      <td>STD-Rayes-2005</td>\n",
       "      <td>Rayes 2005</td>\n",
       "      <td>QIG-04.01</td>\n",
       "      <td>All outcomes</td>\n",
       "      <td>LOW</td>\n",
       "      <td>{'B': 'Comment', '#text': ': attrition = 0%'}</td>\n",
       "      <td>: attrition = 0%</td>\n",
       "    </tr>\n",
       "    <tr>\n",
       "      <th>351222</th>\n",
       "      <td>D:\\biomedical-datasets\\cdsr_dataset\\rm5\\CD0065...</td>\n",
       "      <td>QIT-05</td>\n",
       "      <td>Selective reporting (reporting bias)</td>\n",
       "      <td>Reporting bias due to selective outcome reporting</td>\n",
       "      <td>True</td>\n",
       "      <td>STUDY</td>\n",
       "      <td>5</td>\n",
       "      <td>STD-Yu-2008</td>\n",
       "      <td>Yu 2008</td>\n",
       "      <td>NaN</td>\n",
       "      <td>NaN</td>\n",
       "      <td>HIGH</td>\n",
       "      <td>Data on TESS score, blood and urine routine, a...</td>\n",
       "      <td>Data on TESS score, blood and urine routine, a...</td>\n",
       "    </tr>\n",
       "    <tr>\n",
       "      <th>197365</th>\n",
       "      <td>D:\\biomedical-datasets\\cdsr_dataset\\rm5\\CD0040...</td>\n",
       "      <td>QIT-02</td>\n",
       "      <td>Allocation concealment (selection bias)</td>\n",
       "      <td>Selection bias (biased allocation to intervent...</td>\n",
       "      <td>True</td>\n",
       "      <td>STUDY</td>\n",
       "      <td>2</td>\n",
       "      <td>STD-Harada-1991A_x0028_2_x0029_</td>\n",
       "      <td>Harada 1991A_x0028_2_x0029_</td>\n",
       "      <td>NaN</td>\n",
       "      <td>NaN</td>\n",
       "      <td>LOW</td>\n",
       "      <td>A - Adequate</td>\n",
       "      <td>A - Adequate</td>\n",
       "    </tr>\n",
       "  </tbody>\n",
       "</table>\n",
       "<p>100 rows × 14 columns</p>\n",
       "</div>"
      ],
      "text/plain": [
       "                                                   review      id  \\\n",
       "39268   D:\\biomedical-datasets\\cdsr_dataset\\rm5\\CD0010...  QIT-05   \n",
       "227338  D:\\biomedical-datasets\\cdsr_dataset\\rm5\\CD0043...  QIT-02   \n",
       "320220  D:\\biomedical-datasets\\cdsr_dataset\\rm5\\CD0061...  QIT-04   \n",
       "239390  D:\\biomedical-datasets\\cdsr_dataset\\rm5\\CD0045...  QIT-06   \n",
       "520028  D:\\biomedical-datasets\\cdsr_dataset\\rm5\\CD0095...  QIT-05   \n",
       "...                                                   ...     ...   \n",
       "448506  D:\\biomedical-datasets\\cdsr_dataset\\rm5\\CD0082...  QIT-01   \n",
       "448554  D:\\biomedical-datasets\\cdsr_dataset\\rm5\\CD0082...  QIT-04   \n",
       "834905  D:\\biomedical-datasets\\cdsr_dataset\\rm5\\CD0148...  QIT-04   \n",
       "351222  D:\\biomedical-datasets\\cdsr_dataset\\rm5\\CD0065...  QIT-05   \n",
       "197365  D:\\biomedical-datasets\\cdsr_dataset\\rm5\\CD0040...  QIT-02   \n",
       "\n",
       "                                               name  \\\n",
       "39268          Selective reporting (reporting bias)   \n",
       "227338      Allocation concealment (selection bias)   \n",
       "320220     Incomplete outcome data (attrition bias)   \n",
       "239390                                   Other bias   \n",
       "520028     Incomplete outcome data (attrition bias)   \n",
       "...                                             ...   \n",
       "448506  Random sequence generation (selection bias)   \n",
       "448554     Incomplete outcome data (attrition bias)   \n",
       "834905     Incomplete outcome data (attrition bias)   \n",
       "351222         Selective reporting (reporting bias)   \n",
       "197365      Allocation concealment (selection bias)   \n",
       "\n",
       "                                              description  core_item  level  \\\n",
       "39268   Reporting bias due to selective outcome reporting       True  STUDY   \n",
       "227338  Selection bias (biased allocation to intervent...       True  STUDY   \n",
       "320220  Attrition bias due to amount, nature or handli...       True  GROUP   \n",
       "239390  Bias due to problems not covered elsewhere in ...       True  STUDY   \n",
       "520028  Attrition bias due to amount, nature or handli...       True  GROUP   \n",
       "...                                                   ...        ...    ...   \n",
       "448506  Selection bias (biased allocation to intervent...       True  STUDY   \n",
       "448554  Attrition bias due to amount, nature or handli...       True  GROUP   \n",
       "834905  Attrition bias due to amount, nature or handli...       True  GROUP   \n",
       "351222  Reporting bias due to selective outcome reporting       True  STUDY   \n",
       "197365  Selection bias (biased allocation to intervent...       True  STUDY   \n",
       "\n",
       "        no                         study_id                   study_name  \\\n",
       "39268    5                STD-Dhainaut-1995                Dhainaut 1995   \n",
       "227338   2               STD-Mohammadi-2015               Mohammadi 2015   \n",
       "320220   4                STD-Frishman-2004                Frishman 2004   \n",
       "239390   6                    STD-Reid-2006                    Reid 2006   \n",
       "520028   5                  STD-Leslie-2017                  Leslie 2017   \n",
       "...     ..                              ...                          ...   \n",
       "448506   1                 STD-Latimer-2006                 Latimer 2006   \n",
       "448554   4                    STD-Wong-2008                    Wong 2008   \n",
       "834905   4                   STD-Rayes-2005                   Rayes 2005   \n",
       "351222   5                      STD-Yu-2008                      Yu 2008   \n",
       "197365   2  STD-Harada-1991A_x0028_2_x0029_  Harada 1991A_x0028_2_x0029_   \n",
       "\n",
       "         group_id                                  group_description  \\\n",
       "39268         NaN                                                NaN   \n",
       "227338        NaN                                                NaN   \n",
       "320220  QIG-04.01                                       All outcomes   \n",
       "239390        NaN                                                NaN   \n",
       "520028  QIG-05.02  Antimalarial prescribing to microscopy- or PCR...   \n",
       "...           ...                                                ...   \n",
       "448506        NaN                                                NaN   \n",
       "448554  QIG-04.01                                       All outcomes   \n",
       "834905  QIG-04.01                                       All outcomes   \n",
       "351222        NaN                                                NaN   \n",
       "197365        NaN                                                NaN   \n",
       "\n",
       "       rob_judgment                                   support_judgment  \\\n",
       "39268           LOW                                                 []   \n",
       "227338      UNCLEAR   No information was provided to assess this risk.   \n",
       "320220          LOW  ['Quote: \"No patients were excluded from the s...   \n",
       "239390      UNCLEAR  ['\"The extension (Protocol 907â\\x80\\x9310) was...   \n",
       "520028          LOW  86% CHWs received training, consented and enro...   \n",
       "...             ...                                                ...   \n",
       "448506          LOW  Randomised: stratified by work history and cli...   \n",
       "448554          LOW  Number and reason for attrition reported. One ...   \n",
       "834905          LOW      {'B': 'Comment', '#text': ': attrition = 0%'}   \n",
       "351222         HIGH  Data on TESS score, blood and urine routine, a...   \n",
       "197365          LOW                                       A - Adequate   \n",
       "\n",
       "                                     support_judgment_str  \n",
       "39268                                                 NaN  \n",
       "227338   No information was provided to assess this risk.  \n",
       "320220  Quote: \"No patients were excluded from the stu...  \n",
       "239390  \"The extension (Protocol 907â10) was a doubl...  \n",
       "520028  86% CHWs received training, consented and enro...  \n",
       "...                                                   ...  \n",
       "448506  Randomised: stratified by work history and cli...  \n",
       "448554  Number and reason for attrition reported. One ...  \n",
       "834905                                   : attrition = 0%  \n",
       "351222  Data on TESS score, blood and urine routine, a...  \n",
       "197365                                       A - Adequate  \n",
       "\n",
       "[100 rows x 14 columns]"
      ]
     },
     "execution_count": 47,
     "metadata": {},
     "output_type": "execute_result"
    }
   ],
   "source": [
    "train.sample(100)"
   ]
  },
  {
   "cell_type": "markdown",
   "metadata": {},
   "source": [
    "## Tokenizing and padding"
   ]
  },
  {
   "cell_type": "code",
   "execution_count": 50,
   "metadata": {},
   "outputs": [],
   "source": [
    "x_train = train[['name', 'description', 'support_judgment_str']].fillna('')\n",
    "y_train = train['rob_judgment']"
   ]
  },
  {
   "cell_type": "code",
   "execution_count": 51,
   "metadata": {},
   "outputs": [],
   "source": [
    "x_train['hypothesis'] = x_train['name'] + ' ' + x_train['description']\n",
    "x_train['premise'] = x_train['support_judgment_str']"
   ]
  },
  {
   "cell_type": "code",
   "execution_count": 53,
   "metadata": {},
   "outputs": [],
   "source": [
    "tokenizer = RobertaTokenizer.from_pretrained('allenai/biomed_roberta_base')"
   ]
  },
  {
   "cell_type": "code",
   "execution_count": 55,
   "metadata": {},
   "outputs": [
    {
     "name": "stderr",
     "output_type": "stream",
     "text": [
      "Token indices sequence length is longer than the specified maximum sequence length for this model (542 > 512). Running this sequence through the model will result in indexing errors\n"
     ]
    }
   ],
   "source": [
    "hypotheses_tokens = x_train['hypothesis'].apply(tokenizer.encode)\n",
    "premises_tokens = x_train['premise'].apply(tokenizer.encode)"
   ]
  },
  {
   "cell_type": "code",
   "execution_count": 59,
   "metadata": {},
   "outputs": [],
   "source": [
    "x_train['h_tkn_count'] = hypotheses_tokens.apply(len)\n",
    "x_train['p_tkn_count'] = premises_tokens.apply(len)"
   ]
  },
  {
   "cell_type": "code",
   "execution_count": 63,
   "metadata": {},
   "outputs": [
    {
     "data": {
      "text/plain": [
       "array([[<Axes: title={'center': 'h_tkn_count'}>,\n",
       "        <Axes: title={'center': 'p_tkn_count'}>]], dtype=object)"
      ]
     },
     "execution_count": 63,
     "metadata": {},
     "output_type": "execute_result"
    },
    {
     "data": {
      "image/png": "[encoded data removed]",
      "text/plain": [
       "<Figure size 640x480 with 2 Axes>"
      ]
     },
     "metadata": {},
     "output_type": "display_data"
    }
   ],
   "source": [
    "x_train[['h_tkn_count', 'p_tkn_count']].hist(bins=100)"
   ]
  },
  {
   "cell_type": "code",
   "execution_count": 62,
   "metadata": {},
   "outputs": [
    {
     "data": {
      "text/html": [
       "<div>\n",
       "<style scoped>\n",
       "    .dataframe tbody tr th:only-of-type {\n",
       "        vertical-align: middle;\n",
       "    }\n",
       "\n",
       "    .dataframe tbody tr th {\n",
       "        vertical-align: top;\n",
       "    }\n",
       "\n",
       "    .dataframe thead th {\n",
       "        text-align: right;\n",
       "    }\n",
       "</style>\n",
       "<table border=\"1\" class=\"dataframe\">\n",
       "  <thead>\n",
       "    <tr style=\"text-align: right;\">\n",
       "      <th></th>\n",
       "      <th>h_tkn_count</th>\n",
       "      <th>p_tkn_count</th>\n",
       "    </tr>\n",
       "  </thead>\n",
       "  <tbody>\n",
       "    <tr>\n",
       "      <th>count</th>\n",
       "      <td>507646.000000</td>\n",
       "      <td>507646.000000</td>\n",
       "    </tr>\n",
       "    <tr>\n",
       "      <th>mean</th>\n",
       "      <td>21.936158</td>\n",
       "      <td>21.650384</td>\n",
       "    </tr>\n",
       "    <tr>\n",
       "      <th>std</th>\n",
       "      <td>9.739229</td>\n",
       "      <td>27.673674</td>\n",
       "    </tr>\n",
       "    <tr>\n",
       "      <th>min</th>\n",
       "      <td>4.000000</td>\n",
       "      <td>2.000000</td>\n",
       "    </tr>\n",
       "    <tr>\n",
       "      <th>25%</th>\n",
       "      <td>15.000000</td>\n",
       "      <td>6.000000</td>\n",
       "    </tr>\n",
       "    <tr>\n",
       "      <th>50%</th>\n",
       "      <td>25.000000</td>\n",
       "      <td>13.000000</td>\n",
       "    </tr>\n",
       "    <tr>\n",
       "      <th>75%</th>\n",
       "      <td>26.000000</td>\n",
       "      <td>27.000000</td>\n",
       "    </tr>\n",
       "    <tr>\n",
       "      <th>max</th>\n",
       "      <td>271.000000</td>\n",
       "      <td>1664.000000</td>\n",
       "    </tr>\n",
       "  </tbody>\n",
       "</table>\n",
       "</div>"
      ],
      "text/plain": [
       "         h_tkn_count    p_tkn_count\n",
       "count  507646.000000  507646.000000\n",
       "mean       21.936158      21.650384\n",
       "std         9.739229      27.673674\n",
       "min         4.000000       2.000000\n",
       "25%        15.000000       6.000000\n",
       "50%        25.000000      13.000000\n",
       "75%        26.000000      27.000000\n",
       "max       271.000000    1664.000000"
      ]
     },
     "execution_count": 62,
     "metadata": {},
     "output_type": "execute_result"
    }
   ],
   "source": [
    "x_train[['h_tkn_count', 'p_tkn_count']].describe()"
   ]
  }
 ],
 "metadata": {
  "kernelspec": {
   "display_name": "EvidenceSCL",
   "language": "python",
   "name": "python3"
  },
  "language_info": {
   "codemirror_mode": {
    "name": "ipython",
    "version": 3
   },
   "file_extension": ".py",
   "mimetype": "text/x-python",
   "name": "python",
   "nbconvert_exporter": "python",
   "pygments_lexer": "ipython3",
   "version": "3.10.13"
  }
 },
 "nbformat": 4,
 "nbformat_minor": 2
}
