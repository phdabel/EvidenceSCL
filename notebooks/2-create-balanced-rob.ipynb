{
 "cells": [
  {
   "cell_type": "markdown",
   "metadata": {},
   "source": [
    "# Creating Risk of Bias Inference Dataset\n",
    "-------\n"
   ]
  },
  {
   "cell_type": "markdown",
   "metadata": {},
   "source": [
    "## Importing libraries"
   ]
  },
  {
   "cell_type": "code",
   "execution_count": 1,
   "metadata": {
    "ExecuteTime": {
     "end_time": "2023-11-28T14:19:39.797965100Z",
     "start_time": "2023-11-28T14:19:36.877663800Z"
    }
   },
   "outputs": [],
   "source": [
    "import os\n",
    "import ast\n",
    "import pandas as pd\n",
    "import numpy as np\n",
    "import json\n",
    "import string\n",
    "from nltk.tokenize import word_tokenize\n",
    "from sklearn.model_selection import train_test_split\n",
    "from skmultilearn.model_selection import IterativeStratification\n",
    "import matplotlib.pyplot as plt"
   ]
  },
  {
   "cell_type": "code",
   "execution_count": 2,
   "metadata": {
    "ExecuteTime": {
     "end_time": "2023-11-28T14:19:45.733884Z",
     "start_time": "2023-11-28T14:19:39.797965100Z"
    }
   },
   "outputs": [],
   "source": [
    "from transformers import RobertaTokenizer, RobertaModel"
   ]
  },
  {
   "cell_type": "markdown",
   "metadata": {},
   "source": [
    "## Constants"
   ]
  },
  {
   "cell_type": "code",
   "execution_count": 3,
   "metadata": {
    "ExecuteTime": {
     "end_time": "2023-11-28T14:19:45.747912900Z",
     "start_time": "2023-11-28T14:19:45.735886700Z"
    }
   },
   "outputs": [],
   "source": [
    "DATASET_PATH = os.path.join('D:\\\\', 'biomedical-datasets', 'cdsr_dataset')\n",
    "CDSR_ROB_PATH = os.path.join(DATASET_PATH, 'rm5_risk_of_bias.csv')\n",
    "CDSR_REF_PATH = os.path.join(DATASET_PATH, 'rm5-references.csv')"
   ]
  },
  {
   "cell_type": "code",
   "execution_count": 4,
   "metadata": {
    "ExecuteTime": {
     "end_time": "2023-11-28T14:19:45.779542200Z",
     "start_time": "2023-11-28T14:19:45.748915700Z"
    }
   },
   "outputs": [],
   "source": [
    "assert os.path.isfile(CDSR_ROB_PATH), \"Arquivo rm5_risk_of_bias.csv não encontrado\"\n",
    "assert os.path.isfile(CDSR_REF_PATH), \"Arquivo rm5-references.csv não encontrado\""
   ]
  },
  {
   "cell_type": "code",
   "execution_count": 5,
   "metadata": {
    "ExecuteTime": {
     "end_time": "2023-11-28T14:19:51.436202600Z",
     "start_time": "2023-11-28T14:19:45.765508700Z"
    }
   },
   "outputs": [],
   "source": [
    "cdsr_rob_df = pd.read_csv(CDSR_ROB_PATH)\n",
    "cdsr_ref_df = pd.read_csv(CDSR_REF_PATH)"
   ]
  },
  {
   "cell_type": "markdown",
   "metadata": {},
   "source": [
    "## Statistics by judgment of bias"
   ]
  },
  {
   "cell_type": "code",
   "execution_count": 6,
   "metadata": {
    "ExecuteTime": {
     "end_time": "2023-11-28T14:19:51.483381700Z",
     "start_time": "2023-11-28T14:19:51.437203500Z"
    }
   },
   "outputs": [
    {
     "data": {
      "text/plain": "32"
     },
     "execution_count": 6,
     "metadata": {},
     "output_type": "execute_result"
    }
   ],
   "source": [
    "len(cdsr_rob_df.id.unique())"
   ]
  },
  {
   "cell_type": "code",
   "execution_count": 7,
   "metadata": {
    "ExecuteTime": {
     "end_time": "2023-11-28T14:19:51.700824Z",
     "start_time": "2023-11-28T14:19:51.485382100Z"
    }
   },
   "outputs": [
    {
     "data": {
      "text/plain": "<Figure size 640x480 with 1 Axes>",
      "image/png": "[encoded data removed]"
     },
     "metadata": {},
     "output_type": "display_data"
    }
   ],
   "source": [
    "# plot barh for rob_judgment group by rob_judgment show values in the bar\n",
    "rob_judgment = cdsr_rob_df['rob_judgment'].value_counts()\n",
    "rob_judgment.plot.barh()\n",
    "for index, value in enumerate(rob_judgment):\n",
    "    plt.text(value, index, str(value))\n",
    "plt.show()"
   ]
  },
  {
   "cell_type": "markdown",
   "source": [
    "## Counting tokens\n",
    "\n",
    "Counting tokens to remove samples with more than 512 tokens. "
   ],
   "metadata": {
    "collapsed": false
   }
  },
  {
   "cell_type": "code",
   "execution_count": 14,
   "metadata": {
    "ExecuteTime": {
     "end_time": "2023-11-28T14:32:19.751575400Z",
     "start_time": "2023-11-28T14:32:18.907544100Z"
    }
   },
   "outputs": [],
   "source": [
    "tokenizer = RobertaTokenizer.from_pretrained('allenai/biomed_roberta_base')"
   ]
  },
  {
   "cell_type": "code",
   "execution_count": 62,
   "outputs": [],
   "source": [
    "def count_tokens(text, max_length=512):\n",
    "    if pd.notnull(text) or pd.notna(text):\n",
    "        return len(tokenizer.encode(text, truncation=True, max_length=max_length))\n",
    "    else:\n",
    "        return 0\n",
    "    \n",
    "def count_hypothesis_tokens(row, max_length=512):\n",
    "    if pd.notnull(row.description) or pd.notna(row.description):\n",
    "        return len(tokenizer.encode(row.description, truncation=True, max_length=max_length))\n",
    "    elif pd.notnull(row.group_description) or pd.notna(row.group_description):\n",
    "        return len(tokenizer.encode(row.group_description, truncation=True, max_length=max_length))\n",
    "    elif pd.notna(row['name']) or pd.notnull(row['name']):\n",
    "        return len(tokenizer.encode(row['name'], truncation=True, max_length=max_length))\n",
    "    else:\n",
    "        return 0\n",
    "    \n",
    "def get_hypothesis(row):\n",
    "    if pd.notnull(row.description) or pd.notna(row.description):\n",
    "        return row.description\n",
    "    elif pd.notnull(row.group_description) or pd.notna(row.group_description):\n",
    "        return row.group_description\n",
    "    elif pd.notna(row['name']) or pd.notnull(row['name']):\n",
    "        return row['name']\n",
    "    else:\n",
    "        return ''"
   ],
   "metadata": {
    "collapsed": false,
    "ExecuteTime": {
     "end_time": "2023-11-28T16:39:20.078881600Z",
     "start_time": "2023-11-28T16:39:20.058838Z"
    }
   }
  },
  {
   "cell_type": "code",
   "execution_count": 63,
   "outputs": [],
   "source": [
    "cdsr_rob_df['num_h_tokens'] = cdsr_rob_df.apply(lambda x: count_hypothesis_tokens(x), axis=1)\n",
    "cdsr_rob_df['hypothesis'] = cdsr_rob_df.apply(lambda x: get_hypothesis(x), axis=1)\n",
    "cdsr_rob_df['num_p_tokens'] = cdsr_rob_df.apply(lambda x: count_tokens(x.support_judgment_str), axis=1)\n",
    "cdsr_rob_df['num_tokens'] = cdsr_rob_df['num_h_tokens'] + cdsr_rob_df['num_p_tokens']"
   ],
   "metadata": {
    "collapsed": false,
    "ExecuteTime": {
     "end_time": "2023-11-28T16:44:41.795621700Z",
     "start_time": "2023-11-28T16:39:25.777071200Z"
    }
   }
  },
  {
   "cell_type": "code",
   "execution_count": 66,
   "outputs": [
    {
     "data": {
      "text/plain": "                                                   review      id  \\\n0       D:\\biomedical-datasets\\cdsr_dataset\\rm5\\CD0000...  QIT-02   \n1       D:\\biomedical-datasets\\cdsr_dataset\\rm5\\CD0000...  QIT-02   \n2       D:\\biomedical-datasets\\cdsr_dataset\\rm5\\CD0000...  QIT-02   \n3       D:\\biomedical-datasets\\cdsr_dataset\\rm5\\CD0000...  QIT-01   \n4       D:\\biomedical-datasets\\cdsr_dataset\\rm5\\CD0000...  QIT-01   \n...                                                   ...     ...   \n846069  D:\\biomedical-datasets\\cdsr_dataset\\rm5\\CD0154...  QIT-07   \n846070  D:\\biomedical-datasets\\cdsr_dataset\\rm5\\CD0154...  QIT-07   \n846071  D:\\biomedical-datasets\\cdsr_dataset\\rm5\\CD0154...  QIT-07   \n846072  D:\\biomedical-datasets\\cdsr_dataset\\rm5\\CD0154...  QIT-07   \n846073  D:\\biomedical-datasets\\cdsr_dataset\\rm5\\CD0154...  QIT-07   \n\n                                           name  \\\n0       Allocation concealment (selection bias)   \n1       Allocation concealment (selection bias)   \n2       Allocation concealment (selection bias)   \n3                 Adequate sequence generation?   \n4                 Adequate sequence generation?   \n...                                         ...   \n846069                               Other bias   \n846070                               Other bias   \n846071                               Other bias   \n846072                               Other bias   \n846073                               Other bias   \n\n                                              description  core_item  level  \\\n0       Selection bias (biased allocation to intervent...       True  STUDY   \n1       Selection bias (biased allocation to intervent...       True  STUDY   \n2       Selection bias (biased allocation to intervent...       True  STUDY   \n3       Was the allocation sequence adequately generated?       True  STUDY   \n4       Was the allocation sequence adequately generated?       True  STUDY   \n...                                                   ...        ...    ...   \n846069  Bias due to problems not covered elsewhere in ...       True  STUDY   \n846070  Bias due to problems not covered elsewhere in ...       True  STUDY   \n846071  Bias due to problems not covered elsewhere in ...       True  STUDY   \n846072  Bias due to problems not covered elsewhere in ...       True  STUDY   \n846073  Bias due to problems not covered elsewhere in ...       True  STUDY   \n\n        no            study_id      study_name group_id group_description  \\\n0        2    STD-Blecher-1967    Blecher 1967      NaN               NaN   \n1        2     STD-MacRae-1971     MacRae 1971      NaN               NaN   \n2        2      STD-Varma-1973      Varma 1973      NaN               NaN   \n3        1  STD-Banninger-1978  Banninger 1978      NaN               NaN   \n4        1      STD-Beard-1974      Beard 1974      NaN               NaN   \n...     ..                 ...             ...      ...               ...   \n846069   7      STD-Walsh-2020      Walsh 2020      NaN               NaN   \n846070   7        STD-Wu-2021a        Wu 2021a      NaN               NaN   \n846071   7        STD-Xia-2020        Xia 2020      NaN               NaN   \n846072   7        STD-Xia-2021        Xia 2021      NaN               NaN   \n846073   7      STD-Zhang-2021      Zhang 2021      NaN               NaN   \n\n       rob_judgment                                   support_judgment  \\\n0              HIGH                                         Inadequate   \n1              HIGH                                         Inadequate   \n2              HIGH                                         Inadequate   \n3              HIGH  {'BR': None, '#text': \"Allocated by 'alternati...   \n4           UNCLEAR  {'BR': None, '#text': 'Allocated \"randomly to ...   \n...             ...                                                ...   \n846069      UNCLEAR                                                 []   \n846070      UNCLEAR                                                 []   \n846071      UNCLEAR                                                 []   \n846072      UNCLEAR                                                 []   \n846073      UNCLEAR                                                 []   \n\n                                     support_judgment_str  num_p_tokens  \\\n0                                              Inadequate             5   \n1                                              Inadequate             5   \n2                                              Inadequate             5   \n3                    Allocated by 'alternating sequence'.            10   \n4       Allocated \"randomly to two groups\" - method no...            16   \n...                                                   ...           ...   \n846069                                                NaN             0   \n846070                                                NaN             0   \n846071                                                NaN             0   \n846072                                                NaN             0   \n846073                                                NaN             0   \n\n        num_h_tokens  num_tokens  \\\n0                 21          26   \n1                 21          26   \n2                 21          26   \n3                  9          19   \n4                  9          25   \n...              ...         ...   \n846069            13          13   \n846070            13          13   \n846071            13          13   \n846072            13          13   \n846073            13          13   \n\n                                               hypothesis  \n0       Selection bias (biased allocation to intervent...  \n1       Selection bias (biased allocation to intervent...  \n2       Selection bias (biased allocation to intervent...  \n3       Was the allocation sequence adequately generated?  \n4       Was the allocation sequence adequately generated?  \n...                                                   ...  \n846069  Bias due to problems not covered elsewhere in ...  \n846070  Bias due to problems not covered elsewhere in ...  \n846071  Bias due to problems not covered elsewhere in ...  \n846072  Bias due to problems not covered elsewhere in ...  \n846073  Bias due to problems not covered elsewhere in ...  \n\n[846074 rows x 18 columns]",
      "text/html": "<div>\n<style scoped>\n    .dataframe tbody tr th:only-of-type {\n        vertical-align: middle;\n    }\n\n    .dataframe tbody tr th {\n        vertical-align: top;\n    }\n\n    .dataframe thead th {\n        text-align: right;\n    }\n</style>\n<table border=\"1\" class=\"dataframe\">\n  <thead>\n    <tr style=\"text-align: right;\">\n      <th></th>\n      <th>review</th>\n      <th>id</th>\n      <th>name</th>\n      <th>description</th>\n      <th>core_item</th>\n      <th>level</th>\n      <th>no</th>\n      <th>study_id</th>\n      <th>study_name</th>\n      <th>group_id</th>\n      <th>group_description</th>\n      <th>rob_judgment</th>\n      <th>support_judgment</th>\n      <th>support_judgment_str</th>\n      <th>num_p_tokens</th>\n      <th>num_h_tokens</th>\n      <th>num_tokens</th>\n      <th>hypothesis</th>\n    </tr>\n  </thead>\n  <tbody>\n    <tr>\n      <th>0</th>\n      <td>D:\\biomedical-datasets\\cdsr_dataset\\rm5\\CD0000...</td>\n      <td>QIT-02</td>\n      <td>Allocation concealment (selection bias)</td>\n      <td>Selection bias (biased allocation to intervent...</td>\n      <td>True</td>\n      <td>STUDY</td>\n      <td>2</td>\n      <td>STD-Blecher-1967</td>\n      <td>Blecher 1967</td>\n      <td>NaN</td>\n      <td>NaN</td>\n      <td>HIGH</td>\n      <td>Inadequate</td>\n      <td>Inadequate</td>\n      <td>5</td>\n      <td>21</td>\n      <td>26</td>\n      <td>Selection bias (biased allocation to intervent...</td>\n    </tr>\n    <tr>\n      <th>1</th>\n      <td>D:\\biomedical-datasets\\cdsr_dataset\\rm5\\CD0000...</td>\n      <td>QIT-02</td>\n      <td>Allocation concealment (selection bias)</td>\n      <td>Selection bias (biased allocation to intervent...</td>\n      <td>True</td>\n      <td>STUDY</td>\n      <td>2</td>\n      <td>STD-MacRae-1971</td>\n      <td>MacRae 1971</td>\n      <td>NaN</td>\n      <td>NaN</td>\n      <td>HIGH</td>\n      <td>Inadequate</td>\n      <td>Inadequate</td>\n      <td>5</td>\n      <td>21</td>\n      <td>26</td>\n      <td>Selection bias (biased allocation to intervent...</td>\n    </tr>\n    <tr>\n      <th>2</th>\n      <td>D:\\biomedical-datasets\\cdsr_dataset\\rm5\\CD0000...</td>\n      <td>QIT-02</td>\n      <td>Allocation concealment (selection bias)</td>\n      <td>Selection bias (biased allocation to intervent...</td>\n      <td>True</td>\n      <td>STUDY</td>\n      <td>2</td>\n      <td>STD-Varma-1973</td>\n      <td>Varma 1973</td>\n      <td>NaN</td>\n      <td>NaN</td>\n      <td>HIGH</td>\n      <td>Inadequate</td>\n      <td>Inadequate</td>\n      <td>5</td>\n      <td>21</td>\n      <td>26</td>\n      <td>Selection bias (biased allocation to intervent...</td>\n    </tr>\n    <tr>\n      <th>3</th>\n      <td>D:\\biomedical-datasets\\cdsr_dataset\\rm5\\CD0000...</td>\n      <td>QIT-01</td>\n      <td>Adequate sequence generation?</td>\n      <td>Was the allocation sequence adequately generated?</td>\n      <td>True</td>\n      <td>STUDY</td>\n      <td>1</td>\n      <td>STD-Banninger-1978</td>\n      <td>Banninger 1978</td>\n      <td>NaN</td>\n      <td>NaN</td>\n      <td>HIGH</td>\n      <td>{'BR': None, '#text': \"Allocated by 'alternati...</td>\n      <td>Allocated by 'alternating sequence'.</td>\n      <td>10</td>\n      <td>9</td>\n      <td>19</td>\n      <td>Was the allocation sequence adequately generated?</td>\n    </tr>\n    <tr>\n      <th>4</th>\n      <td>D:\\biomedical-datasets\\cdsr_dataset\\rm5\\CD0000...</td>\n      <td>QIT-01</td>\n      <td>Adequate sequence generation?</td>\n      <td>Was the allocation sequence adequately generated?</td>\n      <td>True</td>\n      <td>STUDY</td>\n      <td>1</td>\n      <td>STD-Beard-1974</td>\n      <td>Beard 1974</td>\n      <td>NaN</td>\n      <td>NaN</td>\n      <td>UNCLEAR</td>\n      <td>{'BR': None, '#text': 'Allocated \"randomly to ...</td>\n      <td>Allocated \"randomly to two groups\" - method no...</td>\n      <td>16</td>\n      <td>9</td>\n      <td>25</td>\n      <td>Was the allocation sequence adequately generated?</td>\n    </tr>\n    <tr>\n      <th>...</th>\n      <td>...</td>\n      <td>...</td>\n      <td>...</td>\n      <td>...</td>\n      <td>...</td>\n      <td>...</td>\n      <td>...</td>\n      <td>...</td>\n      <td>...</td>\n      <td>...</td>\n      <td>...</td>\n      <td>...</td>\n      <td>...</td>\n      <td>...</td>\n      <td>...</td>\n      <td>...</td>\n      <td>...</td>\n      <td>...</td>\n    </tr>\n    <tr>\n      <th>846069</th>\n      <td>D:\\biomedical-datasets\\cdsr_dataset\\rm5\\CD0154...</td>\n      <td>QIT-07</td>\n      <td>Other bias</td>\n      <td>Bias due to problems not covered elsewhere in ...</td>\n      <td>True</td>\n      <td>STUDY</td>\n      <td>7</td>\n      <td>STD-Walsh-2020</td>\n      <td>Walsh 2020</td>\n      <td>NaN</td>\n      <td>NaN</td>\n      <td>UNCLEAR</td>\n      <td>[]</td>\n      <td>NaN</td>\n      <td>0</td>\n      <td>13</td>\n      <td>13</td>\n      <td>Bias due to problems not covered elsewhere in ...</td>\n    </tr>\n    <tr>\n      <th>846070</th>\n      <td>D:\\biomedical-datasets\\cdsr_dataset\\rm5\\CD0154...</td>\n      <td>QIT-07</td>\n      <td>Other bias</td>\n      <td>Bias due to problems not covered elsewhere in ...</td>\n      <td>True</td>\n      <td>STUDY</td>\n      <td>7</td>\n      <td>STD-Wu-2021a</td>\n      <td>Wu 2021a</td>\n      <td>NaN</td>\n      <td>NaN</td>\n      <td>UNCLEAR</td>\n      <td>[]</td>\n      <td>NaN</td>\n      <td>0</td>\n      <td>13</td>\n      <td>13</td>\n      <td>Bias due to problems not covered elsewhere in ...</td>\n    </tr>\n    <tr>\n      <th>846071</th>\n      <td>D:\\biomedical-datasets\\cdsr_dataset\\rm5\\CD0154...</td>\n      <td>QIT-07</td>\n      <td>Other bias</td>\n      <td>Bias due to problems not covered elsewhere in ...</td>\n      <td>True</td>\n      <td>STUDY</td>\n      <td>7</td>\n      <td>STD-Xia-2020</td>\n      <td>Xia 2020</td>\n      <td>NaN</td>\n      <td>NaN</td>\n      <td>UNCLEAR</td>\n      <td>[]</td>\n      <td>NaN</td>\n      <td>0</td>\n      <td>13</td>\n      <td>13</td>\n      <td>Bias due to problems not covered elsewhere in ...</td>\n    </tr>\n    <tr>\n      <th>846072</th>\n      <td>D:\\biomedical-datasets\\cdsr_dataset\\rm5\\CD0154...</td>\n      <td>QIT-07</td>\n      <td>Other bias</td>\n      <td>Bias due to problems not covered elsewhere in ...</td>\n      <td>True</td>\n      <td>STUDY</td>\n      <td>7</td>\n      <td>STD-Xia-2021</td>\n      <td>Xia 2021</td>\n      <td>NaN</td>\n      <td>NaN</td>\n      <td>UNCLEAR</td>\n      <td>[]</td>\n      <td>NaN</td>\n      <td>0</td>\n      <td>13</td>\n      <td>13</td>\n      <td>Bias due to problems not covered elsewhere in ...</td>\n    </tr>\n    <tr>\n      <th>846073</th>\n      <td>D:\\biomedical-datasets\\cdsr_dataset\\rm5\\CD0154...</td>\n      <td>QIT-07</td>\n      <td>Other bias</td>\n      <td>Bias due to problems not covered elsewhere in ...</td>\n      <td>True</td>\n      <td>STUDY</td>\n      <td>7</td>\n      <td>STD-Zhang-2021</td>\n      <td>Zhang 2021</td>\n      <td>NaN</td>\n      <td>NaN</td>\n      <td>UNCLEAR</td>\n      <td>[]</td>\n      <td>NaN</td>\n      <td>0</td>\n      <td>13</td>\n      <td>13</td>\n      <td>Bias due to problems not covered elsewhere in ...</td>\n    </tr>\n  </tbody>\n</table>\n<p>846074 rows × 18 columns</p>\n</div>"
     },
     "execution_count": 66,
     "metadata": {},
     "output_type": "execute_result"
    }
   ],
   "source": [
    "cdsr_rob_df"
   ],
   "metadata": {
    "collapsed": false,
    "ExecuteTime": {
     "end_time": "2023-11-28T16:46:40.091760800Z",
     "start_time": "2023-11-28T16:46:40.075320500Z"
    }
   }
  },
  {
   "cell_type": "code",
   "execution_count": 70,
   "outputs": [],
   "source": [
    "cdsr_rob_512_df = cdsr_rob_df[cdsr_rob_df['num_tokens'] <= 512]\n",
    "cdsr_rob_128_df = cdsr_rob_df[cdsr_rob_df['num_tokens'] <= 128]"
   ],
   "metadata": {
    "collapsed": false,
    "ExecuteTime": {
     "end_time": "2023-11-28T17:15:02.766961700Z",
     "start_time": "2023-11-28T17:15:02.545019Z"
    }
   }
  },
  {
   "cell_type": "markdown",
   "source": [
    "## Splitting dataset"
   ],
   "metadata": {
    "collapsed": false
   }
  },
  {
   "cell_type": "code",
   "execution_count": 71,
   "outputs": [],
   "source": [
    "def iterative_split(df, test_size, stratify_columns):\n",
    "    \"\"\"Custom iterative train test split which\n",
    "    'maintains balanced representation with respect\n",
    "    to order-th label combinations.'\n",
    "\n",
    "    From https://madewithml.com/courses/mlops/splitting/#stratified-split\n",
    "    \"\"\"\n",
    "    # One-hot encode the stratify columns and concatenate them\n",
    "    one_hot_cols = [pd.get_dummies(df[col]) for col in stratify_columns]\n",
    "    one_hot_cols = pd.concat(one_hot_cols, axis=1).to_numpy()\n",
    "    stratifier = IterativeStratification(\n",
    "        n_splits=2, order=len(stratify_columns), sample_distribution_per_fold=[test_size, 1-test_size])\n",
    "    train_indices, test_indices = next(stratifier.split(df.to_numpy(), one_hot_cols))\n",
    "    # Return the train and test set dataframes\n",
    "    train, test = df.iloc[train_indices], df.iloc[test_indices]\n",
    "    return train, test"
   ],
   "metadata": {
    "collapsed": false,
    "ExecuteTime": {
     "end_time": "2023-11-28T17:15:08.770312700Z",
     "start_time": "2023-11-28T17:15:08.761312100Z"
    }
   }
  },
  {
   "cell_type": "code",
   "execution_count": 73,
   "outputs": [],
   "source": [
    "train_512, val_test_512 = iterative_split(cdsr_rob_512_df, 0.4, ['rob_judgment'])\n",
    "val_512, test_512 = iterative_split(val_test_512, 0.5, ['rob_judgment'])\n",
    "\n",
    "train_128, val_test_128 = iterative_split(cdsr_rob_128_df, 0.4, ['rob_judgment'])\n",
    "val_128, test_128 = iterative_split(val_test_128, 0.5, ['rob_judgment'])"
   ],
   "metadata": {
    "collapsed": false,
    "ExecuteTime": {
     "end_time": "2023-11-28T19:55:05.051025400Z",
     "start_time": "2023-11-28T18:35:44.007172100Z"
    }
   }
  },
  {
   "cell_type": "code",
   "execution_count": 74,
   "outputs": [],
   "source": [
    "train_512.to_csv(os.path.join(DATASET_PATH, 'rob_train_512.csv'), index=False)\n",
    "val_512.to_csv(os.path.join(DATASET_PATH, 'rob_val_512.csv'), index=False)\n",
    "test_512.to_csv(os.path.join(DATASET_PATH, 'rob_test_512.csv'), index=False)\n",
    "\n",
    "train_128.to_csv(os.path.join(DATASET_PATH, 'rob_train_128.csv'), index=False)\n",
    "val_128.to_csv(os.path.join(DATASET_PATH, 'rob_val_128.csv'), index=False)\n",
    "test_128.to_csv(os.path.join(DATASET_PATH, 'rob_test_128.csv'), index=False)"
   ],
   "metadata": {
    "collapsed": false,
    "ExecuteTime": {
     "end_time": "2023-11-28T19:55:28.363076500Z",
     "start_time": "2023-11-28T19:55:05.056955Z"
    }
   }
  },
  {
   "cell_type": "markdown",
   "source": [
    "## Downsampling dataset"
   ],
   "metadata": {
    "collapsed": false
   }
  },
  {
   "cell_type": "code",
   "execution_count": 75,
   "outputs": [],
   "source": [
    "grouped_df = train_512.groupby('rob_judgment')\n",
    "min_samples = grouped_df.size().min()\n",
    "downsampled_512_df = grouped_df.apply(lambda x: x.sample(min_samples)).reset_index(drop=True)\n",
    "\n",
    "grouped_df = train_128.groupby('rob_judgment')\n",
    "min_samples = grouped_df.size().min()\n",
    "downsampled_128_df = grouped_df.apply(lambda x: x.sample(min_samples)).reset_index(drop=True)"
   ],
   "metadata": {
    "collapsed": false,
    "ExecuteTime": {
     "end_time": "2023-11-28T19:55:29.189511600Z",
     "start_time": "2023-11-28T19:55:28.365077600Z"
    }
   }
  },
  {
   "cell_type": "code",
   "execution_count": 84,
   "outputs": [],
   "source": [
    "downsampled_512_df.to_csv(os.path.join(DATASET_PATH, 'rob_downsampled_train_512.csv'), index=False)\n",
    "downsampled_128_df.to_csv(os.path.join(DATASET_PATH, 'rob_downsampled_train_128.csv'), index=False)"
   ],
   "metadata": {
    "collapsed": false,
    "ExecuteTime": {
     "end_time": "2023-11-28T22:31:59.702873200Z",
     "start_time": "2023-11-28T22:31:52.553044600Z"
    }
   }
  },
  {
   "cell_type": "code",
   "execution_count": 76,
   "outputs": [
    {
     "data": {
      "text/plain": "<Figure size 640x480 with 1 Axes>",
      "image/png": "[encoded data removed]"
     },
     "metadata": {},
     "output_type": "display_data"
    }
   ],
   "source": [
    "rob_judgment = downsampled_512_df['rob_judgment'].value_counts()\n",
    "rob_judgment.plot.barh()\n",
    "for index, value in enumerate(rob_judgment):\n",
    "    plt.text(value, index, str(value))\n",
    "plt.show()"
   ],
   "metadata": {
    "collapsed": false,
    "ExecuteTime": {
     "end_time": "2023-11-28T19:55:29.328309Z",
     "start_time": "2023-11-28T19:55:29.192510300Z"
    }
   }
  },
  {
   "cell_type": "code",
   "execution_count": 77,
   "outputs": [
    {
     "data": {
      "text/plain": "<Figure size 640x480 with 1 Axes>",
      "image/png": "[encoded data removed]"
     },
     "metadata": {},
     "output_type": "display_data"
    }
   ],
   "source": [
    "rob_judgment = downsampled_128_df['rob_judgment'].value_counts()\n",
    "rob_judgment.plot.barh()\n",
    "for index, value in enumerate(rob_judgment):\n",
    "    plt.text(value, index, str(value))\n",
    "plt.show()"
   ],
   "metadata": {
    "collapsed": false,
    "ExecuteTime": {
     "end_time": "2023-11-28T19:55:29.468302Z",
     "start_time": "2023-11-28T19:55:29.329314100Z"
    }
   }
  },
  {
   "cell_type": "code",
   "execution_count": 78,
   "outputs": [
    {
     "data": {
      "text/plain": "((507606, 18), (169202, 18), (169202, 18))"
     },
     "execution_count": 78,
     "metadata": {},
     "output_type": "execute_result"
    }
   ],
   "source": [
    "train_512.shape, val_512.shape, test_512.shape"
   ],
   "metadata": {
    "collapsed": false,
    "ExecuteTime": {
     "end_time": "2023-11-28T19:55:29.536163600Z",
     "start_time": "2023-11-28T19:55:29.470300600Z"
    }
   }
  },
  {
   "cell_type": "code",
   "execution_count": 79,
   "outputs": [
    {
     "data": {
      "text/plain": "((499628, 18), (166542, 18), (166543, 18))"
     },
     "execution_count": 79,
     "metadata": {},
     "output_type": "execute_result"
    }
   ],
   "source": [
    "train_128.shape, val_128.shape, test_128.shape"
   ],
   "metadata": {
    "collapsed": false,
    "ExecuteTime": {
     "end_time": "2023-11-28T19:55:29.537674900Z",
     "start_time": "2023-11-28T19:55:29.485484Z"
    }
   }
  },
  {
   "cell_type": "code",
   "execution_count": 85,
   "outputs": [
    {
     "data": {
      "text/plain": "((230190, 18), (237237, 18))"
     },
     "execution_count": 85,
     "metadata": {},
     "output_type": "execute_result"
    }
   ],
   "source": [
    "downsampled_128_df.shape, downsampled_512_df.shape"
   ],
   "metadata": {
    "collapsed": false,
    "ExecuteTime": {
     "end_time": "2023-11-28T22:42:27.369462800Z",
     "start_time": "2023-11-28T22:42:27.353830800Z"
    }
   }
  },
  {
   "cell_type": "code",
   "execution_count": 86,
   "outputs": [
    {
     "data": {
      "text/plain": "(rob_judgment\n HIGH       76730\n LOW        76730\n UNCLEAR    76730\n Name: count, dtype: int64,\n rob_judgment\n HIGH       79079\n LOW        79079\n UNCLEAR    79079\n Name: count, dtype: int64)"
     },
     "execution_count": 86,
     "metadata": {},
     "output_type": "execute_result"
    }
   ],
   "source": [
    "downsampled_128_df.rob_judgment.value_counts(), downsampled_512_df.rob_judgment.value_counts()"
   ],
   "metadata": {
    "collapsed": false,
    "ExecuteTime": {
     "end_time": "2023-11-28T22:42:34.249291500Z",
     "start_time": "2023-11-28T22:42:34.175534Z"
    }
   }
  },
  {
   "cell_type": "code",
   "execution_count": 83,
   "outputs": [
    {
     "data": {
      "text/plain": "(rob_judgment\n LOW        220973\n UNCLEAR    207554\n HIGH        79079\n Name: count, dtype: int64,\n rob_judgment\n LOW        73658\n UNCLEAR    69184\n HIGH       26360\n Name: count, dtype: int64,\n rob_judgment\n LOW        73658\n UNCLEAR    69185\n HIGH       26359\n Name: count, dtype: int64)"
     },
     "execution_count": 83,
     "metadata": {},
     "output_type": "execute_result"
    }
   ],
   "source": [
    "train_512.rob_judgment.value_counts(), val_512.rob_judgment.value_counts(), test_512.rob_judgment.value_counts()"
   ],
   "metadata": {
    "collapsed": false,
    "ExecuteTime": {
     "end_time": "2023-11-28T22:31:08.860059200Z",
     "start_time": "2023-11-28T22:31:08.794480500Z"
    }
   }
  },
  {
   "cell_type": "code",
   "execution_count": 81,
   "outputs": [
    {
     "data": {
      "text/plain": "(rob_judgment\n LOW        217384\n UNCLEAR    205514\n HIGH        76730\n Name: count, dtype: int64,\n rob_judgment\n LOW        72461\n UNCLEAR    68505\n HIGH       25576\n Name: count, dtype: int64,\n rob_judgment\n LOW        72461\n UNCLEAR    68505\n HIGH       25577\n Name: count, dtype: int64)"
     },
     "execution_count": 81,
     "metadata": {},
     "output_type": "execute_result"
    }
   ],
   "source": [
    "train_128.rob_judgment.value_counts(), val_128.rob_judgment.value_counts(), test_128.rob_judgment.value_counts()"
   ],
   "metadata": {
    "collapsed": false,
    "ExecuteTime": {
     "end_time": "2023-11-28T19:55:29.654259800Z",
     "start_time": "2023-11-28T19:55:29.607110600Z"
    }
   }
  },
  {
   "cell_type": "code",
   "execution_count": 82,
   "outputs": [
    {
     "data": {
      "text/plain": "                                                   review      id  \\\n516297  D:\\biomedical-datasets\\cdsr_dataset\\rm5\\CD0094...  QIT-05   \n808695  D:\\biomedical-datasets\\cdsr_dataset\\rm5\\CD0136...  QIT-14   \n123719  D:\\biomedical-datasets\\cdsr_dataset\\rm5\\CD0029...  QIT-02   \n90355   D:\\biomedical-datasets\\cdsr_dataset\\rm5\\CD0020...  QIT-02   \n112440  D:\\biomedical-datasets\\cdsr_dataset\\rm5\\CD0028...  QIT-16   \n...                                                   ...     ...   \n772388  D:\\biomedical-datasets\\cdsr_dataset\\rm5\\CD0132...  QIT-05   \n70546   D:\\biomedical-datasets\\cdsr_dataset\\rm5\\CD0017...  QIT-01   \n382685  D:\\biomedical-datasets\\cdsr_dataset\\rm5\\CD0071...  QIT-01   \n656357  D:\\biomedical-datasets\\cdsr_dataset\\rm5\\CD0116...  QIT-01   \n178329  D:\\biomedical-datasets\\cdsr_dataset\\rm5\\CD0038...  QIT-03   \n\n                                                     name  \\\n516297               Selective reporting (reporting bias)   \n808695           Bias in selection of the reported result   \n123719  Bias due to deviations from intended intervent...   \n90355                             Allocation concealment?   \n112440                                    Comparable arms   \n...                                                   ...   \n772388           Incomplete outcome data (attrition bias)   \n70546         Random sequence generation (selection bias)   \n382685        Random sequence generation (selection bias)   \n656357        Random sequence generation (selection bias)   \n178329     Blinding (performance bias and detection bias)   \n\n                                              description  core_item  level  \\\n516297  Reporting bias due to selective outcome reporting       True  STUDY   \n808695  Selective reporting of results in a way that d...      False  STUDY   \n123719                                                NaN       True  GROUP   \n90355                Was allocation adequately concealed?       True  STUDY   \n112440                                                NaN      False  STUDY   \n...                                                   ...        ...    ...   \n772388  Attrition bias due to amount, nature or handli...       True  GROUP   \n70546   Selection bias (biased allocation to intervent...       True  STUDY   \n382685  Selection bias (biased allocation to intervent...       True  STUDY   \n656357  Selection bias (biased allocation to intervent...       True  STUDY   \n178329  Performance bias or detection bias due to know...       True  GROUP   \n\n        no                study_id          study_name   group_id  \\\n516297   5        STD-Mishra-2010a        Mishra 2010a        NaN   \n808695  14         STD-Losken-2009         Losken 2009        NaN   \n123719   2        STD-Walters-2013        Walters 2013  QIG-02.04   \n90355    2            STD-Lao-2001            Lao 2001        NaN   \n112440  16  STD-Sigurgeirsson-2009  Sigurgeirsson 2009        NaN   \n...     ..                     ...                 ...        ...   \n772388   5          STD-Adler-2015          Adler 2015  QIG-05.01   \n70546    1          STD-Cornu-2012          Cornu 2012        NaN   \n382685   1        STD-Swanson-1998        Swanson 1998        NaN   \n656357   1         STD-Lamont-2001         Lamont 2001        NaN   \n178329   3           STD-Frei-1994           Frei 1994  QIG-03.01   \n\n                                        group_description rob_judgment  \\\n516297                                                NaN      UNCLEAR   \n808695                                                NaN      UNCLEAR   \n123719  Mortality: all-cause mortality (primary analysis)         HIGH   \n90355                                                 NaN          LOW   \n112440                                                NaN      UNCLEAR   \n...                                                   ...          ...   \n772388                                       All outcomes          LOW   \n70546                                                 NaN          LOW   \n382685                                                NaN          LOW   \n656357                                                NaN      UNCLEAR   \n178329                                       All outcomes      UNCLEAR   \n\n                                         support_judgment  \\\n516297                                  No protocol found   \n808695                                                 []   \n123719  [{'B': {'I': 'Effect of assignment:'}, 'BR': N...   \n90355                                          A-adequate   \n112440  Same time and attention given to participants ...   \n...                                                   ...   \n772388  Although there was some attrition, this was re...   \n70546   Computerised randomisation was centralised by ...   \n382685            \"computer-generated randomisation list\"   \n656357              Sequence generation was not reported.   \n178329  \"The study was designed as a multicenter, doub...   \n\n                                     support_judgment_str  num_p_tokens  \\\n516297                                  No protocol found             5   \n808695                                                NaN             0   \n123719  -\"The limitations of the study were the high r...            67   \n90355                                          A-adequate             6   \n112440  Same time and attention given to participants ...            12   \n...                                                   ...           ...   \n772388  Although there was some attrition, this was re...            34   \n70546   Computerised randomisation was centralised by ...            15   \n382685              computer-generated randomisation list             8   \n656357              Sequence generation was not reported.             9   \n178329  \"The study was designed as a multicenter, doub...            45   \n\n        num_h_tokens  num_tokens  \\\n516297             9          14   \n808695            32          32   \n123719            13          80   \n90355              7          13   \n112440             5          17   \n...              ...         ...   \n772388            16          50   \n70546             20          35   \n382685            20          28   \n656357            20          29   \n178329            16          61   \n\n                                               hypothesis  \n516297  Reporting bias due to selective outcome reporting  \n808695  Selective reporting of results in a way that d...  \n123719  Mortality: all-cause mortality (primary analysis)  \n90355                Was allocation adequately concealed?  \n112440                                    Comparable arms  \n...                                                   ...  \n772388  Attrition bias due to amount, nature or handli...  \n70546   Selection bias (biased allocation to intervent...  \n382685  Selection bias (biased allocation to intervent...  \n656357  Selection bias (biased allocation to intervent...  \n178329  Performance bias or detection bias due to know...  \n\n[100 rows x 18 columns]",
      "text/html": "<div>\n<style scoped>\n    .dataframe tbody tr th:only-of-type {\n        vertical-align: middle;\n    }\n\n    .dataframe tbody tr th {\n        vertical-align: top;\n    }\n\n    .dataframe thead th {\n        text-align: right;\n    }\n</style>\n<table border=\"1\" class=\"dataframe\">\n  <thead>\n    <tr style=\"text-align: right;\">\n      <th></th>\n      <th>review</th>\n      <th>id</th>\n      <th>name</th>\n      <th>description</th>\n      <th>core_item</th>\n      <th>level</th>\n      <th>no</th>\n      <th>study_id</th>\n      <th>study_name</th>\n      <th>group_id</th>\n      <th>group_description</th>\n      <th>rob_judgment</th>\n      <th>support_judgment</th>\n      <th>support_judgment_str</th>\n      <th>num_p_tokens</th>\n      <th>num_h_tokens</th>\n      <th>num_tokens</th>\n      <th>hypothesis</th>\n    </tr>\n  </thead>\n  <tbody>\n    <tr>\n      <th>516297</th>\n      <td>D:\\biomedical-datasets\\cdsr_dataset\\rm5\\CD0094...</td>\n      <td>QIT-05</td>\n      <td>Selective reporting (reporting bias)</td>\n      <td>Reporting bias due to selective outcome reporting</td>\n      <td>True</td>\n      <td>STUDY</td>\n      <td>5</td>\n      <td>STD-Mishra-2010a</td>\n      <td>Mishra 2010a</td>\n      <td>NaN</td>\n      <td>NaN</td>\n      <td>UNCLEAR</td>\n      <td>No protocol found</td>\n      <td>No protocol found</td>\n      <td>5</td>\n      <td>9</td>\n      <td>14</td>\n      <td>Reporting bias due to selective outcome reporting</td>\n    </tr>\n    <tr>\n      <th>808695</th>\n      <td>D:\\biomedical-datasets\\cdsr_dataset\\rm5\\CD0136...</td>\n      <td>QIT-14</td>\n      <td>Bias in selection of the reported result</td>\n      <td>Selective reporting of results in a way that d...</td>\n      <td>False</td>\n      <td>STUDY</td>\n      <td>14</td>\n      <td>STD-Losken-2009</td>\n      <td>Losken 2009</td>\n      <td>NaN</td>\n      <td>NaN</td>\n      <td>UNCLEAR</td>\n      <td>[]</td>\n      <td>NaN</td>\n      <td>0</td>\n      <td>32</td>\n      <td>32</td>\n      <td>Selective reporting of results in a way that d...</td>\n    </tr>\n    <tr>\n      <th>123719</th>\n      <td>D:\\biomedical-datasets\\cdsr_dataset\\rm5\\CD0029...</td>\n      <td>QIT-02</td>\n      <td>Bias due to deviations from intended intervent...</td>\n      <td>NaN</td>\n      <td>True</td>\n      <td>GROUP</td>\n      <td>2</td>\n      <td>STD-Walters-2013</td>\n      <td>Walters 2013</td>\n      <td>QIG-02.04</td>\n      <td>Mortality: all-cause mortality (primary analysis)</td>\n      <td>HIGH</td>\n      <td>[{'B': {'I': 'Effect of assignment:'}, 'BR': N...</td>\n      <td>-\"The limitations of the study were the high r...</td>\n      <td>67</td>\n      <td>13</td>\n      <td>80</td>\n      <td>Mortality: all-cause mortality (primary analysis)</td>\n    </tr>\n    <tr>\n      <th>90355</th>\n      <td>D:\\biomedical-datasets\\cdsr_dataset\\rm5\\CD0020...</td>\n      <td>QIT-02</td>\n      <td>Allocation concealment?</td>\n      <td>Was allocation adequately concealed?</td>\n      <td>True</td>\n      <td>STUDY</td>\n      <td>2</td>\n      <td>STD-Lao-2001</td>\n      <td>Lao 2001</td>\n      <td>NaN</td>\n      <td>NaN</td>\n      <td>LOW</td>\n      <td>A-adequate</td>\n      <td>A-adequate</td>\n      <td>6</td>\n      <td>7</td>\n      <td>13</td>\n      <td>Was allocation adequately concealed?</td>\n    </tr>\n    <tr>\n      <th>112440</th>\n      <td>D:\\biomedical-datasets\\cdsr_dataset\\rm5\\CD0028...</td>\n      <td>QIT-16</td>\n      <td>Comparable arms</td>\n      <td>NaN</td>\n      <td>False</td>\n      <td>STUDY</td>\n      <td>16</td>\n      <td>STD-Sigurgeirsson-2009</td>\n      <td>Sigurgeirsson 2009</td>\n      <td>NaN</td>\n      <td>NaN</td>\n      <td>UNCLEAR</td>\n      <td>Same time and attention given to participants ...</td>\n      <td>Same time and attention given to participants ...</td>\n      <td>12</td>\n      <td>5</td>\n      <td>17</td>\n      <td>Comparable arms</td>\n    </tr>\n    <tr>\n      <th>...</th>\n      <td>...</td>\n      <td>...</td>\n      <td>...</td>\n      <td>...</td>\n      <td>...</td>\n      <td>...</td>\n      <td>...</td>\n      <td>...</td>\n      <td>...</td>\n      <td>...</td>\n      <td>...</td>\n      <td>...</td>\n      <td>...</td>\n      <td>...</td>\n      <td>...</td>\n      <td>...</td>\n      <td>...</td>\n      <td>...</td>\n    </tr>\n    <tr>\n      <th>772388</th>\n      <td>D:\\biomedical-datasets\\cdsr_dataset\\rm5\\CD0132...</td>\n      <td>QIT-05</td>\n      <td>Incomplete outcome data (attrition bias)</td>\n      <td>Attrition bias due to amount, nature or handli...</td>\n      <td>True</td>\n      <td>GROUP</td>\n      <td>5</td>\n      <td>STD-Adler-2015</td>\n      <td>Adler 2015</td>\n      <td>QIG-05.01</td>\n      <td>All outcomes</td>\n      <td>LOW</td>\n      <td>Although there was some attrition, this was re...</td>\n      <td>Although there was some attrition, this was re...</td>\n      <td>34</td>\n      <td>16</td>\n      <td>50</td>\n      <td>Attrition bias due to amount, nature or handli...</td>\n    </tr>\n    <tr>\n      <th>70546</th>\n      <td>D:\\biomedical-datasets\\cdsr_dataset\\rm5\\CD0017...</td>\n      <td>QIT-01</td>\n      <td>Random sequence generation (selection bias)</td>\n      <td>Selection bias (biased allocation to intervent...</td>\n      <td>True</td>\n      <td>STUDY</td>\n      <td>1</td>\n      <td>STD-Cornu-2012</td>\n      <td>Cornu 2012</td>\n      <td>NaN</td>\n      <td>NaN</td>\n      <td>LOW</td>\n      <td>Computerised randomisation was centralised by ...</td>\n      <td>Computerised randomisation was centralised by ...</td>\n      <td>15</td>\n      <td>20</td>\n      <td>35</td>\n      <td>Selection bias (biased allocation to intervent...</td>\n    </tr>\n    <tr>\n      <th>382685</th>\n      <td>D:\\biomedical-datasets\\cdsr_dataset\\rm5\\CD0071...</td>\n      <td>QIT-01</td>\n      <td>Random sequence generation (selection bias)</td>\n      <td>Selection bias (biased allocation to intervent...</td>\n      <td>True</td>\n      <td>STUDY</td>\n      <td>1</td>\n      <td>STD-Swanson-1998</td>\n      <td>Swanson 1998</td>\n      <td>NaN</td>\n      <td>NaN</td>\n      <td>LOW</td>\n      <td>\"computer-generated randomisation list\"</td>\n      <td>computer-generated randomisation list</td>\n      <td>8</td>\n      <td>20</td>\n      <td>28</td>\n      <td>Selection bias (biased allocation to intervent...</td>\n    </tr>\n    <tr>\n      <th>656357</th>\n      <td>D:\\biomedical-datasets\\cdsr_dataset\\rm5\\CD0116...</td>\n      <td>QIT-01</td>\n      <td>Random sequence generation (selection bias)</td>\n      <td>Selection bias (biased allocation to intervent...</td>\n      <td>True</td>\n      <td>STUDY</td>\n      <td>1</td>\n      <td>STD-Lamont-2001</td>\n      <td>Lamont 2001</td>\n      <td>NaN</td>\n      <td>NaN</td>\n      <td>UNCLEAR</td>\n      <td>Sequence generation was not reported.</td>\n      <td>Sequence generation was not reported.</td>\n      <td>9</td>\n      <td>20</td>\n      <td>29</td>\n      <td>Selection bias (biased allocation to intervent...</td>\n    </tr>\n    <tr>\n      <th>178329</th>\n      <td>D:\\biomedical-datasets\\cdsr_dataset\\rm5\\CD0038...</td>\n      <td>QIT-03</td>\n      <td>Blinding (performance bias and detection bias)</td>\n      <td>Performance bias or detection bias due to know...</td>\n      <td>True</td>\n      <td>GROUP</td>\n      <td>3</td>\n      <td>STD-Frei-1994</td>\n      <td>Frei 1994</td>\n      <td>QIG-03.01</td>\n      <td>All outcomes</td>\n      <td>UNCLEAR</td>\n      <td>\"The study was designed as a multicenter, doub...</td>\n      <td>\"The study was designed as a multicenter, doub...</td>\n      <td>45</td>\n      <td>16</td>\n      <td>61</td>\n      <td>Performance bias or detection bias due to know...</td>\n    </tr>\n  </tbody>\n</table>\n<p>100 rows × 18 columns</p>\n</div>"
     },
     "execution_count": 82,
     "metadata": {},
     "output_type": "execute_result"
    }
   ],
   "source": [
    "train_512.sample(100)"
   ],
   "metadata": {
    "collapsed": false,
    "ExecuteTime": {
     "end_time": "2023-11-28T19:55:29.659774300Z",
     "start_time": "2023-11-28T19:55:29.628224Z"
    }
   }
  },
  {
   "cell_type": "code",
   "execution_count": 89,
   "outputs": [
    {
     "data": {
      "text/plain": "                                                     name  \\\n44884   Bias due to deviations from intended intervent...   \n214783        Random sequence generation (selection bias)   \n137449        Random sequence generation (selection bias)   \n202934               Selective reporting (reporting bias)   \n124685               Selective reporting (reporting bias)   \n...                                                   ...   \n189595           Incomplete outcome data (attrition bias)   \n3728                                            Blinding?   \n119640               Selective reporting (reporting bias)   \n19218                        Group similarity at baseline   \n184997            Allocation concealment (selection bias)   \n\n                                     support_judgment_str rob_judgment  \n44884   The study was not blinded, and 7% of participa...         HIGH  \n214783                               No details reported.      UNCLEAR  \n137449                 Randomisation was done by computer          LOW  \n202934  All outcomes in trial reported; no protocol av...      UNCLEAR  \n124685                              all outcomes reported          LOW  \n...                                                   ...          ...  \n189595  This study did not reported adverse events. No...      UNCLEAR  \n3728                                                  NaN         HIGH  \n119640  Comment: study authors mentioned explicitly th...          LOW  \n19218   Slight imbalance in numbers, place of treatmen...         HIGH  \n184997                          Information not available      UNCLEAR  \n\n[100 rows x 3 columns]",
      "text/html": "<div>\n<style scoped>\n    .dataframe tbody tr th:only-of-type {\n        vertical-align: middle;\n    }\n\n    .dataframe tbody tr th {\n        vertical-align: top;\n    }\n\n    .dataframe thead th {\n        text-align: right;\n    }\n</style>\n<table border=\"1\" class=\"dataframe\">\n  <thead>\n    <tr style=\"text-align: right;\">\n      <th></th>\n      <th>name</th>\n      <th>support_judgment_str</th>\n      <th>rob_judgment</th>\n    </tr>\n  </thead>\n  <tbody>\n    <tr>\n      <th>44884</th>\n      <td>Bias due to deviations from intended intervent...</td>\n      <td>The study was not blinded, and 7% of participa...</td>\n      <td>HIGH</td>\n    </tr>\n    <tr>\n      <th>214783</th>\n      <td>Random sequence generation (selection bias)</td>\n      <td>No details reported.</td>\n      <td>UNCLEAR</td>\n    </tr>\n    <tr>\n      <th>137449</th>\n      <td>Random sequence generation (selection bias)</td>\n      <td>Randomisation was done by computer</td>\n      <td>LOW</td>\n    </tr>\n    <tr>\n      <th>202934</th>\n      <td>Selective reporting (reporting bias)</td>\n      <td>All outcomes in trial reported; no protocol av...</td>\n      <td>UNCLEAR</td>\n    </tr>\n    <tr>\n      <th>124685</th>\n      <td>Selective reporting (reporting bias)</td>\n      <td>all outcomes reported</td>\n      <td>LOW</td>\n    </tr>\n    <tr>\n      <th>...</th>\n      <td>...</td>\n      <td>...</td>\n      <td>...</td>\n    </tr>\n    <tr>\n      <th>189595</th>\n      <td>Incomplete outcome data (attrition bias)</td>\n      <td>This study did not reported adverse events. No...</td>\n      <td>UNCLEAR</td>\n    </tr>\n    <tr>\n      <th>3728</th>\n      <td>Blinding?</td>\n      <td>NaN</td>\n      <td>HIGH</td>\n    </tr>\n    <tr>\n      <th>119640</th>\n      <td>Selective reporting (reporting bias)</td>\n      <td>Comment: study authors mentioned explicitly th...</td>\n      <td>LOW</td>\n    </tr>\n    <tr>\n      <th>19218</th>\n      <td>Group similarity at baseline</td>\n      <td>Slight imbalance in numbers, place of treatmen...</td>\n      <td>HIGH</td>\n    </tr>\n    <tr>\n      <th>184997</th>\n      <td>Allocation concealment (selection bias)</td>\n      <td>Information not available</td>\n      <td>UNCLEAR</td>\n    </tr>\n  </tbody>\n</table>\n<p>100 rows × 3 columns</p>\n</div>"
     },
     "execution_count": 89,
     "metadata": {},
     "output_type": "execute_result"
    }
   ],
   "source": [
    "downsampled_512_df.sample(100)[['name', 'support_judgment_str', 'rob_judgment']]"
   ],
   "metadata": {
    "collapsed": false,
    "ExecuteTime": {
     "end_time": "2023-11-28T22:47:08.851925Z",
     "start_time": "2023-11-28T22:47:08.820669Z"
    }
   }
  }
 ],
 "metadata": {
  "kernelspec": {
   "display_name": "EvidenceSCL",
   "language": "python",
   "name": "python3"
  },
  "language_info": {
   "codemirror_mode": {
    "name": "ipython",
    "version": 3
   },
   "file_extension": ".py",
   "mimetype": "text/x-python",
   "name": "python",
   "nbconvert_exporter": "python",
   "pygments_lexer": "ipython3",
   "version": "3.10.13"
  }
 },
 "nbformat": 4,
 "nbformat_minor": 2
}
